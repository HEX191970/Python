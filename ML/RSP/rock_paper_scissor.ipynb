{
  "nbformat": 4,
  "nbformat_minor": 0,
  "metadata": {
    "colab": {
      "name": "rock_paper_scissor.ipynb",
      "provenance": [],
      "collapsed_sections": [
        "3eK0uvpd60XX"
      ],
      "toc_visible": true
    },
    "kernelspec": {
      "name": "python3",
      "display_name": "Python 3"
    }
  },
  "cells": [
    {
      "cell_type": "markdown",
      "metadata": {
        "id": "3lit1opcCBRD",
        "colab_type": "text"
      },
      "source": [
        "# ***ROCK PAPER SCISSOR***"
      ]
    },
    {
      "cell_type": "markdown",
      "metadata": {
        "id": "A0fqjvagCvOX",
        "colab_type": "text"
      },
      "source": [
        "## **MODULE**"
      ]
    },
    {
      "cell_type": "code",
      "metadata": {
        "id": "ixqkt7zArWkk",
        "colab_type": "code",
        "colab": {}
      },
      "source": [
        "import numpy as np\n",
        "import tensorflow as tf\n",
        "from tensorflow import keras \n",
        "import glob\n",
        "from google.colab import drive\n",
        "import zipfile, os, shutil\n",
        "from PIL import Image\n",
        "from tensorflow.keras.preprocessing.image import ImageDataGenerator\n",
        "import tensorflow as tf\n",
        "from tensorflow import keras\n",
        "import numpy as np\n",
        "import matplotlib.pyplot as plt\n",
        "from tensorflow.keras.preprocessing import image\n",
        "from tensorflow.keras.preprocessing.image import ImageDataGenerator"
      ],
      "execution_count": null,
      "outputs": []
    },
    {
      "cell_type": "markdown",
      "metadata": {
        "id": "L6orvBNgC5Ns",
        "colab_type": "text"
      },
      "source": [
        "## **CONNECT TO GOOGLE DRIVE**"
      ]
    },
    {
      "cell_type": "code",
      "metadata": {
        "id": "QO06dSbd9pEx",
        "colab_type": "code",
        "colab": {
          "base_uri": "https://localhost:8080/",
          "height": 144
        },
        "outputId": "0a61d562-bd86-48c7-ba21-6512e3d432ae"
      },
      "source": [
        "### mount Google Drive ### \n",
        "drive.mount('/content/gdrive')\n",
        "os.getcwd()"
      ],
      "execution_count": null,
      "outputs": [
        {
          "output_type": "stream",
          "text": [
            "Go to this URL in a browser: https://accounts.google.com/o/oauth2/auth?client_id=947318989803-6bn6qk8qdgf4n4g3pfee6491hc0brc4i.apps.googleusercontent.com&redirect_uri=urn%3aietf%3awg%3aoauth%3a2.0%3aoob&response_type=code&scope=email%20https%3a%2f%2fwww.googleapis.com%2fauth%2fdocs.test%20https%3a%2f%2fwww.googleapis.com%2fauth%2fdrive%20https%3a%2f%2fwww.googleapis.com%2fauth%2fdrive.photos.readonly%20https%3a%2f%2fwww.googleapis.com%2fauth%2fpeopleapi.readonly\n",
            "\n",
            "Enter your authorization code:\n",
            "··········\n",
            "Mounted at /content/gdrive\n"
          ],
          "name": "stdout"
        },
        {
          "output_type": "execute_result",
          "data": {
            "application/vnd.google.colaboratory.intrinsic+json": {
              "type": "string"
            },
            "text/plain": [
              "'/content'"
            ]
          },
          "metadata": {
            "tags": []
          },
          "execution_count": 2
        }
      ]
    },
    {
      "cell_type": "code",
      "metadata": {
        "id": "aioWZX0Y-BhE",
        "colab_type": "code",
        "colab": {}
      },
      "source": [
        "# unzip\n",
        "dataset = '/content/gdrive/My Drive/PROJECT/RSP/rps.zip'\n",
        "dst_path = '/content/rps'\n",
        "dst_file = os.path.join(dst_path, 'rps.zip')\n",
        "\n",
        "if not os.path.exists(dst_path):\n",
        "  os.makedirs(dst_path)\n",
        "\n",
        "\n",
        "# copy zip file\n",
        "shutil.copy(dataset, dst_file)\n",
        "  \n",
        "with zipfile.ZipFile(dst_file, 'r') as file:\n",
        "  file.extractall(dst_path)"
      ],
      "execution_count": null,
      "outputs": []
    },
    {
      "cell_type": "markdown",
      "metadata": {
        "id": "E6UTHR4o-eUm",
        "colab_type": "text"
      },
      "source": [
        "## **Preprocessing Dataset**"
      ]
    },
    {
      "cell_type": "code",
      "metadata": {
        "id": "qJ1Yixcq-tTn",
        "colab_type": "code",
        "colab": {
          "base_uri": "https://localhost:8080/",
          "height": 177
        },
        "outputId": "9b9d8233-c14b-4e12-a671-b5e25322dc7d"
      },
      "source": [
        "train_rock_dir = os.path.join(dst_path, '/content/rps/rps/train/rps/rock/')\n",
        "train_paper_dir = os.path.join(dst_path, '/content/rps/rps/train/rps/scissors/')\n",
        "train_scissor_dir = os.path.join(dst_path, '/content/rps/rps/train/rps/paper/')\n",
        "\n",
        "print('total training rock images:', len(os.listdir(train_rock_dir)))\n",
        "print('total training paper images:', len(os.listdir(train_paper_dir)))\n",
        "print('total training scissor images:', len(os.listdir(train_scissor_dir)))\n",
        "\n",
        "valid_rock_dir = os.path.join(dst_path, '/content/rps/rps/valid/rps/rock/')\n",
        "valid_paper_dir = os.path.join(dst_path, '/content/rps/rps/valid/rps/scissors/')\n",
        "valid_scissor_dir = os.path.join(dst_path, '/content/rps/rps/valid/rps/paper/')\n",
        "\n",
        "print('total valid rock images:', len(os.listdir(valid_rock_dir)))\n",
        "print('total valid paper images:', len(os.listdir(valid_paper_dir)))\n",
        "print('total valid scissor images:', len(os.listdir(valid_scissor_dir)))\n",
        "\n",
        "test_rock_dir = os.path.join(dst_path, '/content/rps/rps/test/rps/rock/')\n",
        "test_paper_dir = os.path.join(dst_path, '/content/rps/rps/test/rps/scissor/')\n",
        "test_scissor_dir = os.path.join(dst_path, '/content/rps/rps/test/rps/paper/')\n",
        "\n",
        "print('total test rock images:', len(os.listdir(test_rock_dir)))\n",
        "print('total test paper images:', len(os.listdir(test_paper_dir)))\n",
        "print('total test scissor images:', len(os.listdir(test_scissor_dir)))"
      ],
      "execution_count": null,
      "outputs": [
        {
          "output_type": "stream",
          "text": [
            "total training rock images: 1500\n",
            "total training paper images: 1500\n",
            "total training scissor images: 1500\n",
            "total valid rock images: 200\n",
            "total valid paper images: 200\n",
            "total valid scissor images: 200\n",
            "total test rock images: 1324\n",
            "total test paper images: 1246\n",
            "total test scissor images: 1346\n"
          ],
          "name": "stdout"
        }
      ]
    },
    {
      "cell_type": "code",
      "metadata": {
        "id": "L_FdDqJ7ACXn",
        "colab_type": "code",
        "colab": {
          "base_uri": "https://localhost:8080/",
          "height": 70
        },
        "outputId": "294cdf24-db3a-4090-d02e-b7ecea4edab0"
      },
      "source": [
        "train_dir = os.path.join('/content/rps/rps/train/rps')\n",
        "valid_dir = os.path.join('/content/rps/rps/valid/rps')\n",
        "test_dir = os.path.join('/content/rps/rps/test/rps')\n",
        "\n",
        "train_datagen = ImageDataGenerator(rescale=1./255,\n",
        "                                   fill_mode='nearest')\n",
        "valid_datagen = ImageDataGenerator(rescale=1./255,\n",
        "                                  fill_mode='nearest')\n",
        "test_datagen = ImageDataGenerator(rescale=1./255,\n",
        "                                  fill_mode='nearest')\n",
        "\n",
        "train_generator = train_datagen.flow_from_directory(train_dir, target_size=(28,28), class_mode='categorical')\n",
        "valid_generator = valid_datagen.flow_from_directory(valid_dir, target_size=(28,28), class_mode='categorical')\n",
        "test_generator = test_datagen.flow_from_directory(test_dir, target_size=(28,28),  class_mode='categorical')"
      ],
      "execution_count": null,
      "outputs": [
        {
          "output_type": "stream",
          "text": [
            "Found 4500 images belonging to 3 classes.\n",
            "Found 600 images belonging to 3 classes.\n",
            "Found 3916 images belonging to 3 classes.\n"
          ],
          "name": "stdout"
        }
      ]
    },
    {
      "cell_type": "code",
      "metadata": {
        "id": "nAJ7fPt-B9jr",
        "colab_type": "code",
        "colab": {
          "base_uri": "https://localhost:8080/",
          "height": 761
        },
        "outputId": "793ee385-fd8f-4602-d761-362387800218"
      },
      "source": [
        "path='/content/rps/rps/train/rps/paper/'\n",
        "\n",
        "fnames = os.listdir(path)\n",
        "\n",
        "plt.figure()\n",
        "\n",
        "i=0\n",
        "for i in range(0,3): \n",
        "  plt.figure(i)\n",
        "  img_path = fnames[i]\n",
        "  img = image.load_img(path + '/' +img_path, target_size=(28,28))\n",
        "  plt.imshow(img) \n",
        "  i += 1"
      ],
      "execution_count": null,
      "outputs": [
        {
          "output_type": "display_data",
          "data": {
            "image/png": "[encoded data removed]",
            "text/plain": [
              "<Figure size 432x288 with 1 Axes>"
            ]
          },
          "metadata": {
            "tags": [],
            "needs_background": "light"
          }
        },
        {
          "output_type": "display_data",
          "data": {
            "image/png": "[encoded data removed]",
            "text/plain": [
              "<Figure size 432x288 with 1 Axes>"
            ]
          },
          "metadata": {
            "tags": [],
            "needs_background": "light"
          }
        },
        {
          "output_type": "display_data",
          "data": {
            "image/png": "[encoded data removed]",
            "text/plain": [
              "<Figure size 432x288 with 1 Axes>"
            ]
          },
          "metadata": {
            "tags": [],
            "needs_background": "light"
          }
        }
      ]
    },
    {
      "cell_type": "markdown",
      "metadata": {
        "id": "RNn_Mi8b9m43",
        "colab_type": "text"
      },
      "source": [
        "## **NETWORK**"
      ]
    },
    {
      "cell_type": "code",
      "metadata": {
        "id": "sf8vnyURaDXV",
        "colab_type": "code",
        "colab": {
          "base_uri": "https://localhost:8080/",
          "height": 426
        },
        "outputId": "297d4afb-ad47-493d-d4e8-77502a455967"
      },
      "source": [
        "model=keras.models.Sequential()\n",
        "#1.input_shape = 입력이미지의 형태 \n",
        "#2-1)Con2D = 얼마나 다양한 이미지의 특징을 살펴보 것인가?\n",
        "#2-2)이미지가 다양할 수록 많은 특성을 파악하도록 함\n",
        "model.add(keras.layers.Conv2D(16, (3,3), activation='relu', input_shape=(28,28,3)))\n",
        "model.add(keras.layers.MaxPool2D(2,2))\n",
        "model.add(keras.layers.Conv2D(32, (3,3), activation='relu'))\n",
        "model.add(keras.layers.MaxPooling2D((2,2)))\n",
        "model.add(keras.layers.Flatten())\n",
        "#3. Dense : 분류기 알고리즘을 얼마나 복잡하게 할 것인가?복잡할 수록 숫자를 늘리는게 대부분\n",
        "model.add(keras.layers.Dense(32, activation='relu'))\n",
        "#4. 최종 분류기의 class의 수이므로, 우리는 0~9, 총 10개의 class 구분 \n",
        "model.add(keras.layers.Dense(3, activation='softmax'))\n",
        "\n",
        "print('Model에 추가된 Layer 개수: ', len(model.layers))\n",
        "model.summary()"
      ],
      "execution_count": null,
      "outputs": [
        {
          "output_type": "stream",
          "text": [
            "Model에 추가된 Layer 개수:  7\n",
            "Model: \"sequential_1\"\n",
            "_________________________________________________________________\n",
            "Layer (type)                 Output Shape              Param #   \n",
            "=================================================================\n",
            "conv2d_2 (Conv2D)            (None, 26, 26, 16)        448       \n",
            "_________________________________________________________________\n",
            "max_pooling2d_2 (MaxPooling2 (None, 13, 13, 16)        0         \n",
            "_________________________________________________________________\n",
            "conv2d_3 (Conv2D)            (None, 11, 11, 32)        4640      \n",
            "_________________________________________________________________\n",
            "max_pooling2d_3 (MaxPooling2 (None, 5, 5, 32)          0         \n",
            "_________________________________________________________________\n",
            "flatten_1 (Flatten)          (None, 800)               0         \n",
            "_________________________________________________________________\n",
            "dense_2 (Dense)              (None, 32)                25632     \n",
            "_________________________________________________________________\n",
            "dense_3 (Dense)              (None, 3)                 99        \n",
            "=================================================================\n",
            "Total params: 30,819\n",
            "Trainable params: 30,819\n",
            "Non-trainable params: 0\n",
            "_________________________________________________________________\n"
          ],
          "name": "stdout"
        }
      ]
    },
    {
      "cell_type": "code",
      "metadata": {
        "id": "EGA5fh2NsmWf",
        "colab_type": "code",
        "colab": {
          "base_uri": "https://localhost:8080/",
          "height": 746
        },
        "outputId": "48020a8f-4b10-4274-c0ad-44bdf9d12ee2"
      },
      "source": [
        "import time\n",
        "\n",
        "model.compile(optimizer='adam',\n",
        "             loss='categorical_crossentropy',\n",
        "             metrics=['accuracy'])\n",
        "\n",
        "start = time.time()\n",
        "history=model.fit_generator(train_generator,\n",
        "                            steps_per_epoch=50,\n",
        "                            epochs=20,\n",
        "                            validation_data=valid_generator,\n",
        "                            validation_steps=10)\n",
        "elapsed = time.time() - start\n",
        "\n",
        "print('Elapsed time: %.4f' % elapsed)"
      ],
      "execution_count": null,
      "outputs": [
        {
          "output_type": "stream",
          "text": [
            "Epoch 1/20\n",
            "50/50 [==============================] - 6s 123ms/step - loss: 1.0339 - accuracy: 0.5194 - val_loss: 0.9782 - val_accuracy: 0.5094\n",
            "Epoch 2/20\n",
            "50/50 [==============================] - 6s 120ms/step - loss: 0.6852 - accuracy: 0.7500 - val_loss: 0.7172 - val_accuracy: 0.7125\n",
            "Epoch 3/20\n",
            "50/50 [==============================] - 6s 121ms/step - loss: 0.4093 - accuracy: 0.8631 - val_loss: 0.6077 - val_accuracy: 0.7125\n",
            "Epoch 4/20\n",
            "50/50 [==============================] - 6s 122ms/step - loss: 0.2916 - accuracy: 0.8963 - val_loss: 0.4601 - val_accuracy: 0.7688\n",
            "Epoch 5/20\n",
            "50/50 [==============================] - 6s 119ms/step - loss: 0.2206 - accuracy: 0.9232 - val_loss: 0.5047 - val_accuracy: 0.7656\n",
            "Epoch 6/20\n",
            "50/50 [==============================] - 6s 121ms/step - loss: 0.1700 - accuracy: 0.9402 - val_loss: 0.4275 - val_accuracy: 0.8062\n",
            "Epoch 7/20\n",
            "50/50 [==============================] - 6s 119ms/step - loss: 0.1818 - accuracy: 0.9362 - val_loss: 0.4151 - val_accuracy: 0.8188\n",
            "Epoch 8/20\n",
            "50/50 [==============================] - 6s 119ms/step - loss: 0.1476 - accuracy: 0.9458 - val_loss: 0.3148 - val_accuracy: 0.8750\n",
            "Epoch 9/20\n",
            "50/50 [==============================] - 6s 120ms/step - loss: 0.1286 - accuracy: 0.9528 - val_loss: 0.3582 - val_accuracy: 0.8594\n",
            "Epoch 10/20\n",
            "50/50 [==============================] - 6s 120ms/step - loss: 0.1071 - accuracy: 0.9635 - val_loss: 0.4378 - val_accuracy: 0.8094\n",
            "Epoch 11/20\n",
            "50/50 [==============================] - 6s 124ms/step - loss: 0.0937 - accuracy: 0.9700 - val_loss: 0.4138 - val_accuracy: 0.8156\n",
            "Epoch 12/20\n",
            "50/50 [==============================] - 6s 124ms/step - loss: 0.0928 - accuracy: 0.9685 - val_loss: 0.2697 - val_accuracy: 0.8969\n",
            "Epoch 13/20\n",
            "50/50 [==============================] - 6s 121ms/step - loss: 0.0974 - accuracy: 0.9619 - val_loss: 0.2493 - val_accuracy: 0.9094\n",
            "Epoch 14/20\n",
            "50/50 [==============================] - 6s 121ms/step - loss: 0.0712 - accuracy: 0.9806 - val_loss: 0.3704 - val_accuracy: 0.8656\n",
            "Epoch 15/20\n",
            "50/50 [==============================] - 6s 119ms/step - loss: 0.0697 - accuracy: 0.9754 - val_loss: 0.3863 - val_accuracy: 0.7781\n",
            "Epoch 16/20\n",
            "50/50 [==============================] - 6s 122ms/step - loss: 0.0625 - accuracy: 0.9780 - val_loss: 0.3506 - val_accuracy: 0.8719\n",
            "Epoch 17/20\n",
            "50/50 [==============================] - 6s 120ms/step - loss: 0.0571 - accuracy: 0.9792 - val_loss: 0.3993 - val_accuracy: 0.8313\n",
            "Epoch 18/20\n",
            "50/50 [==============================] - 6s 122ms/step - loss: 0.0627 - accuracy: 0.9761 - val_loss: 0.2820 - val_accuracy: 0.8906\n",
            "Epoch 19/20\n",
            "50/50 [==============================] - 6s 123ms/step - loss: 0.0698 - accuracy: 0.9737 - val_loss: 0.2411 - val_accuracy: 0.8813\n",
            "Epoch 20/20\n",
            "50/50 [==============================] - 6s 120ms/step - loss: 0.0413 - accuracy: 0.9912 - val_loss: 0.3743 - val_accuracy: 0.8687\n",
            "Elapsed time: 124.2965\n"
          ],
          "name": "stdout"
        }
      ]
    },
    {
      "cell_type": "markdown",
      "metadata": {
        "id": "fzS9Sk2_EVcw",
        "colab_type": "text"
      },
      "source": [
        "## **PLOT - PER EPOCH**"
      ]
    },
    {
      "cell_type": "code",
      "metadata": {
        "id": "K9xRMA5fSbIP",
        "colab_type": "code",
        "colab": {
          "base_uri": "https://localhost:8080/",
          "height": 545
        },
        "outputId": "648bdc59-4485-4c8a-e60a-1523c403f3e6"
      },
      "source": [
        "import matplotlib.pyplot as plt\n",
        "\n",
        "acc = history.history['accuracy'] \n",
        "val_acc = history.history['val_accuracy']\n",
        "loss = history.history['loss'] \n",
        "val_loss = history.history['val_loss']\n",
        "\n",
        "epochs = range(1, len(acc) + 1)\n",
        "\n",
        "plt.plot(epochs, acc, 'r', label='Training acc') \n",
        "plt.plot(epochs, val_acc, 'b', label='Valid acc') \n",
        "plt.title('Train and Valid accuracy') \n",
        "plt.legend()\n",
        "\n",
        "plt.figure()\n",
        "\n",
        "plt.plot(epochs, loss, 'r', label='Training loss') \n",
        "plt.plot(epochs, val_loss, 'b', label='Valid loss') \n",
        "plt.title('Train and Valid loss') \n",
        "plt.legend()\n",
        "\n",
        "plt.show()"
      ],
      "execution_count": null,
      "outputs": [
        {
          "output_type": "display_data",
          "data": {
            "image/png": "[encoded data removed]",
            "text/plain": [
              "<Figure size 432x288 with 1 Axes>"
            ]
          },
          "metadata": {
            "tags": [],
            "needs_background": "light"
          }
        },
        {
          "output_type": "display_data",
          "data": {
            "image/png": "[encoded data removed]",
            "text/plain": [
              "<Figure size 432x288 with 1 Axes>"
            ]
          },
          "metadata": {
            "tags": [],
            "needs_background": "light"
          }
        }
      ]
    },
    {
      "cell_type": "code",
      "metadata": {
        "id": "fk5LJIBDE42O",
        "colab_type": "code",
        "colab": {
          "base_uri": "https://localhost:8080/",
          "height": 284
        },
        "outputId": "5f6a63ab-c625-4835-b327-1fb8b4dcddd4"
      },
      "source": [
        "model.compile(optimizer='adam',\n",
        "             loss='categorical_crossentropy',\n",
        "             metrics=['accuracy'])\n",
        "\n",
        "start = time.time()\n",
        "history2=model.fit_generator(train_generator,\n",
        "                            steps_per_epoch=50,\n",
        "                            epochs=7,\n",
        "                            validation_data=valid_generator,\n",
        "                            validation_steps=10)\n",
        "elapsed = time.time() - start\n",
        "\n",
        "print('Elapsed time: %.4f' % elapsed)"
      ],
      "execution_count": null,
      "outputs": [
        {
          "output_type": "stream",
          "text": [
            "Epoch 1/7\n",
            "50/50 [==============================] - 6s 121ms/step - loss: 0.0282 - accuracy: 0.9894 - val_loss: 0.6044 - val_accuracy: 0.8000\n",
            "Epoch 2/7\n",
            "50/50 [==============================] - 6s 120ms/step - loss: 0.0207 - accuracy: 0.9943 - val_loss: 0.3361 - val_accuracy: 0.8844\n",
            "Epoch 3/7\n",
            "50/50 [==============================] - 6s 120ms/step - loss: 0.0206 - accuracy: 0.9937 - val_loss: 0.2388 - val_accuracy: 0.9062\n",
            "Epoch 4/7\n",
            "50/50 [==============================] - 6s 122ms/step - loss: 0.0296 - accuracy: 0.9931 - val_loss: 0.9708 - val_accuracy: 0.7969\n",
            "Epoch 5/7\n",
            "50/50 [==============================] - 6s 122ms/step - loss: 0.0205 - accuracy: 0.9956 - val_loss: 0.6189 - val_accuracy: 0.8469\n",
            "Epoch 6/7\n",
            "50/50 [==============================] - 6s 122ms/step - loss: 0.0199 - accuracy: 0.9931 - val_loss: 0.6664 - val_accuracy: 0.8313\n",
            "Epoch 7/7\n",
            "50/50 [==============================] - 6s 119ms/step - loss: 0.0234 - accuracy: 0.9918 - val_loss: 0.5466 - val_accuracy: 0.8906\n",
            "Elapsed time: 43.6970\n"
          ],
          "name": "stdout"
        }
      ]
    },
    {
      "cell_type": "markdown",
      "metadata": {
        "id": "aNVsFkN8H80O",
        "colab_type": "text"
      },
      "source": [
        "## **CONFUSIONMATRIX - TEST**"
      ]
    },
    {
      "cell_type": "markdown",
      "metadata": {
        "id": "3eK0uvpd60XX",
        "colab_type": "text"
      },
      "source": [
        "### ***def plot_cm***"
      ]
    },
    {
      "cell_type": "code",
      "metadata": {
        "id": "tIMlKng8lPJg",
        "colab_type": "code",
        "colab": {}
      },
      "source": [
        "import numpy as np\n",
        "\n",
        "\n",
        "def plot_confusion_matrix(cm,\n",
        "                          target_names,\n",
        "                          title='Confusion matrix',\n",
        "                          cmap=None,\n",
        "                          normalize=True):\n",
        "    \"\"\"\n",
        "    given a sklearn confusion matrix (cm), make a nice plot\n",
        "\n",
        "    Arguments\n",
        "    ---------\n",
        "    cm:           confusion matrix from sklearn.metrics.confusion_matrix\n",
        "\n",
        "    target_names: given classification classes such as [0, 1, 2]\n",
        "                  the class names, for example: ['high', 'medium', 'low']\n",
        "\n",
        "    title:        the text to display at the top of the matrix\n",
        "\n",
        "    cmap:         the gradient of the values displayed from matplotlib.pyplot.cm\n",
        "                  see http://matplotlib.org/examples/color/colormaps_reference.html\n",
        "                  plt.get_cmap('jet') or plt.cm.Blues\n",
        "\n",
        "    normalize:    If False, plot the raw numbers\n",
        "                  If True, plot the proportions\n",
        "\n",
        "    Usage\n",
        "    -----\n",
        "    plot_confusion_matrix(cm           = cm,                  # confusion matrix created by\n",
        "                                                              # sklearn.metrics.confusion_matrix\n",
        "                          normalize    = True,                # show proportions\n",
        "                          target_names = y_labels_vals,       # list of names of the classes\n",
        "                          title        = best_estimator_name) # title of graph\n",
        "\n",
        "    Citiation\n",
        "    ---------\n",
        "    http://scikit-learn.org/stable/auto_examples/model_selection/plot_confusion_matrix.html\n",
        "\n",
        "    \"\"\"\n",
        "    import matplotlib.pyplot as plt\n",
        "    import numpy as np\n",
        "    import itertools\n",
        "\n",
        "    accuracy = np.trace(cm) / float(np.sum(cm))\n",
        "    misclass = 1 - accuracy\n",
        "\n",
        "    if cmap is None:\n",
        "        cmap = plt.get_cmap('Blues')\n",
        "\n",
        "    plt.figure(figsize=(8, 6))\n",
        "    plt.imshow(cm, interpolation='nearest', cmap=cmap)\n",
        "    plt.title(title)\n",
        "    plt.colorbar()\n",
        "\n",
        "    if target_names is not None:\n",
        "        tick_marks = np.arange(len(target_names))\n",
        "        plt.xticks(tick_marks, target_names, rotation=45)\n",
        "        plt.yticks(tick_marks, target_names)\n",
        "\n",
        "    if normalize:\n",
        "        cm = cm.astype('float') / cm.sum(axis=1)[:, np.newaxis]\n",
        "\n",
        "\n",
        "    thresh = cm.max() / 1.5 if normalize else cm.max() / 2\n",
        "    for i, j in itertools.product(range(cm.shape[0]), range(cm.shape[1])):\n",
        "        if normalize:\n",
        "            plt.text(j, i, \"{:0.4f}\".format(cm[i, j]),\n",
        "                     horizontalalignment=\"center\",\n",
        "                     color=\"white\" if cm[i, j] > thresh else \"black\")\n",
        "        else:\n",
        "            plt.text(j, i, \"{:,}\".format(cm[i, j]),\n",
        "                     horizontalalignment=\"center\",\n",
        "                     color=\"white\" if cm[i, j] > thresh else \"black\")\n",
        "\n",
        "\n",
        "    plt.tight_layout()\n",
        "    plt.ylabel('True label')\n",
        "    plt.xlabel('Predicted label\\naccuracy={:0.4f}; misclass={:0.4f}'.format(accuracy, misclass))\n",
        "    plt.show()"
      ],
      "execution_count": null,
      "outputs": []
    },
    {
      "cell_type": "markdown",
      "metadata": {
        "id": "gGH-rGpy7GUe",
        "colab_type": "text"
      },
      "source": [
        "### ***plot_cm***"
      ]
    },
    {
      "cell_type": "code",
      "metadata": {
        "id": "zSfHrf_uTmW1",
        "colab_type": "code",
        "colab": {
          "base_uri": "https://localhost:8080/",
          "height": 70
        },
        "outputId": "d5b2d215-55cd-44d8-c428-bfd80052d4fe"
      },
      "source": [
        "from mlxtend.evaluate import confusion_matrix\n",
        "from tensorflow.keras.utils import to_categorical\n",
        "\n",
        "classes=to_categorical(test_generator.classes)\n",
        "score=model.predict(test_generator)\n",
        "\n",
        "cm = confusion_matrix(np.argmax(classes, axis=1),np.argmax(score.round(), axis=1),binary=False)\n",
        "\n",
        "cm"
      ],
      "execution_count": null,
      "outputs": [
        {
          "output_type": "execute_result",
          "data": {
            "text/plain": [
              "array([[491, 490, 365],\n",
              "       [531, 446, 347],\n",
              "       [500, 418, 328]])"
            ]
          },
          "metadata": {
            "tags": []
          },
          "execution_count": 33
        }
      ]
    },
    {
      "cell_type": "code",
      "metadata": {
        "id": "xOnvO64WkmhR",
        "colab_type": "code",
        "colab": {
          "base_uri": "https://localhost:8080/",
          "height": 467
        },
        "outputId": "a9326467-1230-4e8c-e3ca-d191d7fe63a8"
      },
      "source": [
        "plot_confusion_matrix(cm,normalize=False, target_names=['Paper','Rock','Scissors'],title= \"Confusion Matrix, Normalized\")"
      ],
      "execution_count": null,
      "outputs": [
        {
          "output_type": "display_data",
          "data": {
            "image/png": "[encoded data removed]",
            "text/plain": [
              "<Figure size 576x432 with 2 Axes>"
            ]
          },
          "metadata": {
            "tags": [],
            "needs_background": "light"
          }
        }
      ]
    },
    {
      "cell_type": "markdown",
      "metadata": {
        "id": "QYkyETme8HM9",
        "colab_type": "text"
      },
      "source": [
        "개선점\n",
        "\n",
        "*   train,valid,test 모두 제대로 분배되지 않았다는 점을 볼 수 있다.\n",
        "*   reshape를 너무 작은 단위로 진행을 하였기 때문에, 사진들의 특징을 가져오는데 문제가 있다"
      ]
    }
  ]
}