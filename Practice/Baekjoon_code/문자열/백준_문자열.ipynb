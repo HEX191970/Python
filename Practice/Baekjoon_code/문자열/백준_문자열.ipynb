{
  "nbformat": 4,
  "nbformat_minor": 0,
  "metadata": {
    "colab": {
      "name": "백준_문자열.ipynb",
      "provenance": [],
      "collapsed_sections": []
    },
    "kernelspec": {
      "name": "python3",
      "display_name": "Python 3"
    }
  },
  "cells": [
    {
      "cell_type": "code",
      "metadata": {
        "id": "CkKTIOpCtxDZ",
        "colab_type": "code",
        "colab": {
          "base_uri": "https://localhost:8080/",
          "height": 52
        },
        "outputId": "1df94297-1038-4be5-e397-b73e192a4afb"
      },
      "source": [
        "#11654\n",
        "#아스키코드 변경\n",
        "# chr(숫자),ord(문자)\n",
        "\n",
        "value = input()\n",
        "print(ord(value))"
      ],
      "execution_count": null,
      "outputs": [
        {
          "output_type": "stream",
          "text": [
            "ㅇ\n",
            "12615\n"
          ],
          "name": "stdout"
        }
      ]
    },
    {
      "cell_type": "code",
      "metadata": {
        "id": "3nuO7vYFOpyt",
        "colab_type": "code",
        "colab": {
          "base_uri": "https://localhost:8080/",
          "height": 69
        },
        "outputId": "940d24a7-e1a7-4e04-a8df-af32975130f9"
      },
      "source": [
        "#11720\n",
        "input()\n",
        "n = str(input())\n",
        "sum=0\n",
        "\n",
        "for i in n:\n",
        "  sum+=int(i)\n",
        "\n",
        "print(sum)"
      ],
      "execution_count": null,
      "outputs": [
        {
          "output_type": "stream",
          "text": [
            "5\n",
            "54321\n",
            "15\n"
          ],
          "name": "stdout"
        }
      ]
    },
    {
      "cell_type": "code",
      "metadata": {
        "id": "MOBoJk6QOUzi",
        "colab_type": "code",
        "colab": {
          "base_uri": "https://localhost:8080/",
          "height": 53
        },
        "outputId": "8016f1ab-0667-48d2-ee5a-8e331844e026"
      },
      "source": [
        "#10809\n",
        "abc = list(map(chr,range(97,123)))\n",
        "case = [-1]*len(abc)\n",
        "\n",
        "word = str(input())\n",
        "start = 0\n",
        "for i in word:\n",
        "  j = abc.index(i)\n",
        "  if case[j]==-1 : case[j]=start\n",
        "  start+=1\n",
        "\n",
        "for i in case:\n",
        "  print(i,end=' ')\n",
        "\n",
        "#보고 놀란 코딩\n",
        "#print(*map(input().find,map(chr,range(97,123))),sep=\" \")\n",
        "#출처: https://leedakyeong.tistory.com/entry/백준-python-10809번-알파벳-찾기 [슈퍼짱짱]"
      ],
      "execution_count": null,
      "outputs": [
        {
          "output_type": "stream",
          "text": [
            "baekjoon\n",
            "1 0 -1 -1 2 -1 -1 -1 -1 4 3 -1 -1 7 5 -1 -1 -1 -1 -1 -1 -1 -1 -1 -1 -1 "
          ],
          "name": "stdout"
        }
      ]
    },
    {
      "cell_type": "code",
      "metadata": {
        "id": "71uIUtkrI9iD",
        "colab_type": "code",
        "colab": {
          "base_uri": "https://localhost:8080/",
          "height": 104
        },
        "outputId": "d22361ba-d85e-42d1-aee1-46ed996f624f"
      },
      "source": [
        "#2675 \n",
        "t = int(input())\n",
        "\n",
        "for i in range(1,t+1):\n",
        "    R, S =map(str,input().split())\n",
        "    P=''\n",
        "\n",
        "    for j in S:\n",
        "        P+=j*int(R)\n",
        "    print(P)"
      ],
      "execution_count": null,
      "outputs": [
        {
          "output_type": "stream",
          "text": [
            "2\n",
            "3 ABC\n",
            "AAABBBCCC\n",
            "5 /HTP\n",
            "/////HHHHHTTTTTPPPPP\n"
          ],
          "name": "stdout"
        }
      ]
    },
    {
      "cell_type": "code",
      "metadata": {
        "id": "GsMsKzEInRzn",
        "colab_type": "code",
        "colab": {
          "base_uri": "https://localhost:8080/",
          "height": 52
        },
        "outputId": "2501b53e-b776-41d6-a408-77c9d6321a34"
      },
      "source": [
        "#1157\n",
        "T = str(input()).upper()\n",
        "\n",
        "abc=list(map(chr,range(65,91)))\n",
        "count=[0]*26\n",
        "max_index=[]\n",
        "for i in T:\n",
        "    j=abc.index(i)\n",
        "    count[j]+=1\n",
        "for i,j in enumerate(count):\n",
        "    if j==max(count):\n",
        "        max_index.append(i)\n",
        "\n",
        "if len(max_index)>=2:\n",
        "    print(\"?\")\n",
        "else:\n",
        "    print(abc[max_index[0]])\n",
        "        "
      ],
      "execution_count": null,
      "outputs": [
        {
          "output_type": "stream",
          "text": [
            "avtkrlrmvjfiurtghnrjk\n",
            "R\n"
          ],
          "name": "stdout"
        }
      ]
    },
    {
      "cell_type": "code",
      "metadata": {
        "id": "MdzHHRNJ-cGG",
        "colab_type": "code",
        "colab": {
          "base_uri": "https://localhost:8080/",
          "height": 53
        },
        "outputId": "83e1dd9b-2771-41e5-d38b-dd1ff6bb0ebe"
      },
      "source": [
        "#1152\n",
        "sen = input().split()\n",
        "print(len(sen))"
      ],
      "execution_count": null,
      "outputs": [
        {
          "output_type": "stream",
          "text": [
            "Teullinika Teullyeotzi \n",
            "2\n"
          ],
          "name": "stdout"
        }
      ]
    },
    {
      "cell_type": "code",
      "metadata": {
        "id": "Br7NgyMVBg6K",
        "colab_type": "code",
        "colab": {
          "base_uri": "https://localhost:8080/",
          "height": 53
        },
        "outputId": "4127cc0b-5953-43e4-f040-d58d97f2c0b4"
      },
      "source": [
        "#2908\n",
        "def rever(str):\n",
        "    r_str=str[::-1]\n",
        "    return r_str\n",
        "\n",
        "A, B = map(str,input().split())\n",
        "\n",
        "r_A = rever(A)\n",
        "r_B = rever(B)\n",
        "\n",
        "if r_A > r_B : print(int(r_A))\n",
        "else : print(int(r_B))\n"
      ],
      "execution_count": null,
      "outputs": [
        {
          "output_type": "stream",
          "text": [
            "734 893\n",
            "437\n"
          ],
          "name": "stdout"
        }
      ]
    },
    {
      "cell_type": "code",
      "metadata": {
        "id": "MV84NXU_BpNe",
        "colab_type": "code",
        "colab": {
          "base_uri": "https://localhost:8080/",
          "height": 53
        },
        "outputId": "7f483ed8-96a1-4b1b-9c04-6777d74a5aa4"
      },
      "source": [
        "#5622\n",
        "T = str(input())\n",
        "\n",
        "dial=['ABC','DEF','GHI','JKL','MNO','PQRS','TUV','WXYZ']\n",
        "\n",
        "time=0\n",
        "for i in T:\n",
        "    for j in range(len(dial)):\n",
        "        if i in dial[j]:\n",
        "            time+=int(j)+3\n",
        "print(time)"
      ],
      "execution_count": null,
      "outputs": [
        {
          "output_type": "stream",
          "text": [
            "UNUCIC\n",
            "36\n"
          ],
          "name": "stdout"
        }
      ]
    },
    {
      "cell_type": "code",
      "metadata": {
        "id": "Cx9OM5md8NAm",
        "colab_type": "code",
        "colab": {
          "base_uri": "https://localhost:8080/",
          "height": 51
        },
        "outputId": "34078294-d92e-479c-8276-036743979814"
      },
      "source": [
        "#2941\n",
        "croatia_alphabet = {1: \"c=\",2:\"c-\",3:\"dz=\",4:\"d-\",5:\"lj\",6:'nj',7:'s=',8:'z='}\n",
        "\n",
        "word = str(input())\n",
        "n = len(word)\n",
        "\n",
        "for i in range(1,9):\n",
        "    if croatia_alphabet.get(i) in word:\n",
        "        n-=word.count(croatia_alphabet.get(i))\n",
        "print(n)     "
      ],
      "execution_count": null,
      "outputs": [
        {
          "output_type": "stream",
          "text": [
            "c=c=\n",
            "2\n"
          ],
          "name": "stdout"
        }
      ]
    },
    {
      "cell_type": "code",
      "metadata": {
        "id": "SDD95fXmg-BJ",
        "colab_type": "code",
        "colab": {
          "base_uri": "https://localhost:8080/",
          "height": 119
        },
        "outputId": "35adf980-b14e-4cda-bc98-61f5712e29cc"
      },
      "source": [
        "# 1316\n",
        "def seq_word(word):\n",
        "    count = 0\n",
        "    \n",
        "    if len(word)<=2 : \n",
        "        count=1\n",
        "    elif word == sorted(word,key=word.index):\n",
        "        count=1\n",
        "    else:\n",
        "        count=0\n",
        "    \n",
        "    return count\n",
        "\n",
        "T = int(input())\n",
        "c = 0 \n",
        "\n",
        "for case in range(0,T):\n",
        "    word = list(input())\n",
        "    c+=seq_word(word)\n",
        "print(c)"
      ],
      "execution_count": null,
      "outputs": [
        {
          "output_type": "stream",
          "text": [
            "4\n",
            "aba\n",
            "abab\n",
            "abcabc\n",
            "a\n",
            "1\n"
          ],
          "name": "stdout"
        }
      ]
    }
  ]
}