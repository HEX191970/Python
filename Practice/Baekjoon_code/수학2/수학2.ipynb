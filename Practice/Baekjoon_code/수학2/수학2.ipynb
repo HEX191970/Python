{
  "nbformat": 4,
  "nbformat_minor": 0,
  "metadata": {
    "colab": {
      "name": "수학2.ipynb",
      "provenance": []
    },
    "kernelspec": {
      "name": "python3",
      "display_name": "Python 3"
    }
  },
  "cells": [
    {
      "cell_type": "code",
      "metadata": {
        "id": "RtLYyPgbndZ4"
      },
      "source": [
        "#1978\n",
        "N = int(input())\n",
        "case = list(map(int,input().split()))\n",
        "count=0\n",
        "\n",
        "def prime(num):\n",
        "    if num == 1:\n",
        "        return False\n",
        "    elif num == 2:\n",
        "        return True\n",
        "    for i in range(2, num):\n",
        "        if num % i == 0:\n",
        "            return False\n",
        "    return True\n",
        "\n",
        "for i in case:\n",
        "    if prime(i):\n",
        "        count +=1\n",
        "\n",
        "print(count)  \n",
        "# 소수 1보다 큰 자연수\n",
        "# 소수는 약수가 딱 2개 존재 \n",
        "# 2,3은 소수이다\n",
        "# 모든 소수는 자연수 n에 대해 6n-1, 6n+1 / 역은 성립 x"
      ],
      "execution_count": null,
      "outputs": []
    },
    {
      "cell_type": "code",
      "metadata": {
        "id": "q6E-gKHbnwVI",
        "outputId": "9bc16f97-cc64-474a-83b0-201060634584",
        "colab": {
          "base_uri": "https://localhost:8080/",
          "height": 84
        }
      },
      "source": [
        "#2581\n",
        "def prime(num):\n",
        "    if num == 1:\n",
        "        return False\n",
        "    elif num == 2:\n",
        "        return True\n",
        "    for i in range(2, num):\n",
        "        if num % i == 0:\n",
        "            return False\n",
        "    return True\n",
        "\n",
        "M = int(input())\n",
        "N = int(input())\n",
        "prime_list = []\n",
        "for M in range(M,N+1):\n",
        "    if prime(M):\n",
        "        prime_list.append(M)\n",
        "    else : \n",
        "        pass\n",
        "if sum(prime_list)==0:\n",
        "    print(-1)\n",
        "else:\n",
        "    print(sum(prime_list))\n",
        "    print(min(prime_list))"
      ],
      "execution_count": null,
      "outputs": [
        {
          "output_type": "stream",
          "text": [
            "60\n",
            "100\n",
            "620\n",
            "61\n"
          ],
          "name": "stdout"
        }
      ]
    },
    {
      "cell_type": "code",
      "metadata": {
        "id": "ADUBC3Y7onAD",
        "outputId": "7283624a-5fa3-4726-fcaf-113f994aa102",
        "colab": {
          "base_uri": "https://localhost:8080/",
          "height": 101
        }
      },
      "source": [
        "#1929\n",
        "def prime(num):\n",
        "    if num == 1 :\n",
        "        return False\n",
        "    elif num == 2 :\n",
        "        return True\n",
        "    for i in range(2,int(num**(1/2))+1) :\n",
        "        if num % i == 0 :\n",
        "            return False\n",
        "    else : return True\n",
        "\n",
        "M, N = map(int, input().split())\n",
        "\n",
        "for M in range(M,N+1):\n",
        "    if prime(M):\n",
        "        print(M)"
      ],
      "execution_count": null,
      "outputs": [
        {
          "output_type": "stream",
          "text": [
            "13 26\n",
            "13\n",
            "17\n",
            "19\n",
            "23\n"
          ],
          "name": "stdout"
        }
      ]
    },
    {
      "cell_type": "code",
      "metadata": {
        "id": "RINcqwbCp1Vy"
      },
      "source": [
        "#4948 \n",
        "#에라토스테네스의 체\n",
        "\n",
        "def prime_list(n):\n",
        "    sieve = [True]*n\n",
        "\n",
        "    for i in range(2, int(n**(1/2))+1):\n",
        "        if sieve[i] == True :\n",
        "            for j in range(i+i, n, i):\n",
        "                sieve[j] = False\n",
        "    \n",
        "    return [i for i in range(1,n) if sieve[i] == True]\n",
        "\n",
        "while True:\n",
        "    n = int(input())\n",
        "    prime = prime_list(2*n)\n",
        "\n",
        "    if n == 0 : break\n",
        "    elif n == 1 : print(1)\n",
        "    else : print(len([i for i in prime if i>n]))"
      ],
      "execution_count": null,
      "outputs": []
    },
    {
      "cell_type": "code",
      "metadata": {
        "id": "FXRMTJcE1dHp",
        "outputId": "db938594-8ffe-412b-9e58-ce6a79e8da1e",
        "colab": {
          "base_uri": "https://localhost:8080/",
          "height": 135
        }
      },
      "source": [
        "#9020\n",
        "def Goldbach(num):\n",
        "    sieve = [True]*num\n",
        "\n",
        "    for i in range(2, int(num**(1/2))+1):\n",
        "        if sieve[i] == True :\n",
        "            for j in range(i+i, num, i):\n",
        "                sieve[j] = False\n",
        "    prime_list = [i for i in range(2,num) if sieve[i]==True]\n",
        "    \n",
        "    #combination\n",
        "    bach_list = []\n",
        "\n",
        "    for i in prime_list: \n",
        "        for j in prime_list:\n",
        "            if i+j == num:\n",
        "                bach_list.append([i,j])\n",
        "    bach_list_len = len(bach_list)//2\n",
        "\n",
        "    return bach_list[bach_list_len]\n",
        "\n",
        "case = int(input())\n",
        "for i in range(0,case):\n",
        "    n = int(input())\n",
        "\n",
        "    if n % 2 == 1 : \n",
        "        pass \n",
        "    else : \n",
        "        Goldbach_comb = Goldbach(n)\n",
        "        print(Goldbach_comb[1],Goldbach_comb[0])"
      ],
      "execution_count": null,
      "outputs": [
        {
          "output_type": "stream",
          "text": [
            "3\n",
            "8\n",
            "3 5\n",
            "10\n",
            "5 5\n",
            "16\n",
            "5 11\n"
          ],
          "name": "stdout"
        }
      ]
    },
    {
      "cell_type": "code",
      "metadata": {
        "id": "fGMvrQv43_Ba",
        "outputId": "3f4d0f49-f370-451c-ef22-780aa646b37e",
        "colab": {
          "base_uri": "https://localhost:8080/",
          "height": 135
        }
      },
      "source": [
        "#9020\n",
        "def Goldbach(num):\n",
        "    sieve = [True]*num\n",
        "\n",
        "    for i in range(2, int(num**(1/2))+1):\n",
        "        if sieve[i] == True :\n",
        "            for j in range(i+i, num, i):\n",
        "                sieve[j] = False\n",
        "    prime_list = [i for i in range(2,num) if sieve[i]==True]\n",
        "    \n",
        "    idx = max([i for i in range(len(prime_list)) if prime_list[i]<=num//2])\n",
        " \n",
        "    for i in range(idx,-1,-1):\n",
        "        for j in range(idx,len(prime_list)):\n",
        "            if prime_list[i]+prime_list[j]==num:\n",
        "                return prime_list[i],prime_list[j]\n",
        "    #combination\n",
        "    \n",
        "case = int(input())\n",
        "for i in range(0,case):\n",
        "    n = int(input())\n",
        "    Goldbach_comb = Goldbach(n)\n",
        "    print(Goldbach_comb[0],Goldbach_comb[1])"
      ],
      "execution_count": null,
      "outputs": [
        {
          "output_type": "stream",
          "text": [
            "3\n",
            "8\n",
            "3 5\n",
            "10\n",
            "5 5\n",
            "16\n",
            "5 11\n"
          ],
          "name": "stdout"
        }
      ]
    },
    {
      "cell_type": "code",
      "metadata": {
        "id": "mdLn5SA3m4Oy",
        "outputId": "2965be45-b40c-4d76-dd3c-a58d145a0074",
        "colab": {
          "base_uri": "https://localhost:8080/",
          "height": 51
        }
      },
      "source": [
        "#1085 \n",
        "x, y, w, h = map(int,input().split())\n",
        " \n",
        " \n",
        "if x >= w-x : \n",
        "    min_x_len = w-x\n",
        "else : min_x_len = x\n",
        " \n",
        "if y >= h-y : \n",
        "    min_y_len = h-y \n",
        "else : min_y_len = y\n",
        "\n",
        "print(min_x_len) if min_x_len < min_y_len else print(min_y_len)\n"
      ],
      "execution_count": null,
      "outputs": [
        {
          "output_type": "stream",
          "text": [
            "6 2 10 3\n",
            "1\n"
          ],
          "name": "stdout"
        }
      ]
    },
    {
      "cell_type": "code",
      "metadata": {
        "id": "aDy9SK7Z2V5v",
        "outputId": "24b82a54-af1d-4785-fd3f-2f851c6fb457",
        "colab": {
          "base_uri": "https://localhost:8080/",
          "height": 84
        }
      },
      "source": [
        "#3009\n",
        "x_=[]\n",
        "y_=[]\n",
        "\n",
        "for i in range(1,4):\n",
        "    x, y = map(int,input().split())\n",
        "    x_.append(x)\n",
        "    y_.append(y)\n",
        "\n",
        "for i in range(3):\n",
        "    if x_.count(x_[i])==1:\n",
        "        x_4 = x_[i]\n",
        "    if y_.count(y_[i])==1:\n",
        "        y_4 = y_[i]\n",
        "print(x_4,y_4)"
      ],
      "execution_count": null,
      "outputs": [
        {
          "output_type": "stream",
          "text": [
            "30 20\n",
            "10 10\n",
            "10 20\n",
            "30 10\n"
          ],
          "name": "stdout"
        }
      ]
    },
    {
      "cell_type": "code",
      "metadata": {
        "id": "7uVEay4C2cT5",
        "outputId": "e4f5e910-48e6-4b3d-c84f-2764b2b633bc",
        "colab": {
          "base_uri": "https://localhost:8080/",
          "height": 68
        }
      },
      "source": [
        "#4153\n",
        "def Pythagorean(list):\n",
        "    idx = sorted(list)\n",
        "    \n",
        "    max_2 = idx[2]*idx[2]\n",
        "    median_2 = idx[1]*idx[1]\n",
        "    min_2 = idx[0]*idx[0]\n",
        "\n",
        "    if max_2 == median_2 + min_2 : \n",
        "        return 'right'\n",
        "    else : return 'wrong'\n",
        "\n",
        "while True:\n",
        "    line = list(map(int,input().split()))\n",
        "    if sum(line)==0 : \n",
        "        break\n",
        "    else: print(Pythagorean(line))"
      ],
      "execution_count": null,
      "outputs": [
        {
          "output_type": "stream",
          "text": [
            "10 8 6\n",
            "right\n",
            "0 0 0 \n"
          ],
          "name": "stdout"
        }
      ]
    },
    {
      "cell_type": "code",
      "metadata": {
        "id": "Dw8NkjTm8fqM",
        "outputId": "b420f70a-9f9e-4356-f155-39800c7a1c14",
        "colab": {
          "base_uri": "https://localhost:8080/",
          "height": 68
        }
      },
      "source": [
        "#3053\n",
        "import math \n",
        "def circle(num):\n",
        "    area = num*num*math.pi\n",
        "    return area\n",
        "\n",
        "n = int(input())\n",
        "print(circle(n))\n",
        "print(2*n*n)"
      ],
      "execution_count": null,
      "outputs": [
        {
          "output_type": "stream",
          "text": [
            "1\n",
            "3.141592653589793\n",
            "2\n"
          ],
          "name": "stdout"
        }
      ]
    },
    {
      "cell_type": "code",
      "metadata": {
        "id": "C3f5vaCQEKm4",
        "outputId": "6d3a3717-fb68-4731-f863-28f16694efcb",
        "colab": {
          "base_uri": "https://localhost:8080/",
          "height": 101
        }
      },
      "source": [
        "t = int(input())\n",
        "for i in range(t):\n",
        "    x1, y1, r1, x2, y2, r2 = map(int, input().split())\n",
        "    d = ((x2 - x1) ** 2 + (y2 - y1) ** 2) ** 0.5\n",
        "    rs = r1 + r2\n",
        "    rm = abs(r1 - r2)\n",
        "    if d == 0:\n",
        "        if r1 == r2:\n",
        "            print(-1)\n",
        "        else:\n",
        "            print(0)\n",
        "    else:\n",
        "        if d == rs or d == rm:\n",
        "            print(1)\n",
        "        elif d < rs and d > rm:\n",
        "            print(2)\n",
        "        else:\n",
        "            print(0)"
      ],
      "execution_count": null,
      "outputs": [
        {
          "output_type": "stream",
          "text": [
            "1\n",
            "1 1 1 1 1 5\n",
            "0\n",
            "0 0 13 40 0 37\n",
            "0\n"
          ],
          "name": "stdout"
        }
      ]
    }
  ]
}